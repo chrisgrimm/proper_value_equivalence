{
 "cells": [
  {
   "cell_type": "markdown",
   "id": "monthly-anchor",
   "metadata": {},
   "source": [
    "# Imports"
   ]
  },
  {
   "cell_type": "code",
   "execution_count": 3,
   "id": "rotary-genius",
   "metadata": {},
   "outputs": [
    {
     "name": "stdout",
     "output_type": "stream",
     "text": [
      "Collecting sklearn\n",
      "  Using cached sklearn-0.0.tar.gz (1.1 kB)\n",
      "Collecting scikit-learn\n",
      "  Using cached scikit_learn-0.24.2-cp38-cp38-macosx_10_13_x86_64.whl (7.2 MB)\n",
      "Collecting joblib>=0.11\n",
      "  Using cached joblib-1.0.1-py3-none-any.whl (303 kB)\n",
      "Collecting threadpoolctl>=2.0.0\n",
      "  Using cached threadpoolctl-2.1.0-py3-none-any.whl (12 kB)\n",
      "Requirement already satisfied: numpy>=1.13.3 in /Users/chris/projects/model_iteration/backtester/venv/lib/python3.8/site-packages (from scikit-learn->sklearn) (1.20.1)\n",
      "Requirement already satisfied: scipy>=0.19.1 in /Users/chris/projects/model_iteration/backtester/venv/lib/python3.8/site-packages (from scikit-learn->sklearn) (1.6.1)\n",
      "Building wheels for collected packages: sklearn\n",
      "  Building wheel for sklearn (setup.py) ... \u001b[?25ldone\n",
      "\u001b[?25h  Created wheel for sklearn: filename=sklearn-0.0-py2.py3-none-any.whl size=1316 sha256=91e289226af82a6766ba3f205d3e6b211e522580288be064d4dd4fcd597912a8\n",
      "  Stored in directory: /Users/chris/Library/Caches/pip/wheels/22/0b/40/fd3f795caaa1fb4c6cb738bc1f56100be1e57da95849bfc897\n",
      "Successfully built sklearn\n",
      "Installing collected packages: threadpoolctl, joblib, scikit-learn, sklearn\n",
      "Successfully installed joblib-1.0.1 scikit-learn-0.24.2 sklearn-0.0 threadpoolctl-2.1.0\n",
      "\u001b[33mWARNING: You are using pip version 21.0.1; however, version 21.1.2 is available.\n",
      "You should consider upgrading via the '/Users/chris/projects/model_iteration/backtester/venv/bin/python3.8 -m pip install --upgrade pip' command.\u001b[0m\n",
      "The autoreload extension is already loaded. To reload it, use:\n",
      "  %reload_ext autoreload\n"
     ]
    },
    {
     "name": "stderr",
     "output_type": "stream",
     "text": [
      "2021-06-02 13:51:34,458\tINFO services.py:1267 -- View the Ray dashboard at \u001b[1m\u001b[32mhttp://127.0.0.1:8265\u001b[39m\u001b[22m\n"
     ]
    }
   ],
   "source": [
    "import sys\n",
    "!{sys.executable} -m pip install sklearn\n",
    "%load_ext autoreload\n",
    "%matplotlib inline\n",
    "%autoreload 2\n",
    "import sys\n",
    "import os \n",
    "\n",
    "import numpy as np\n",
    "import matplotlib.pyplot as plt\n",
    "from matplotlib import colors\n",
    "from matplotlib import rcParams\n",
    "from matplotlib.collections import LineCollection\n",
    "\n",
    "import value_and_policy_iteration as vpi\n",
    "import read_experiment_data as dd\n",
    "import gridworld\n",
    "import ray\n",
    "import tqdm\n",
    "import pickle\n",
    "import random\n",
    "import matplotlib\n",
    "from sklearn.decomposition import PCA \n",
    "from mpl_toolkits.axes_grid1 import make_axes_locatable\n",
    "\n",
    "\n",
    "ray.shutdown()\n",
    "ray.init()\n",
    "\n",
    "env = gridworld.FourRooms(p_intended=0.8)\n",
    "true_r = env.get_reward_matrix()\n",
    "true_p = env.get_transition_tensor()\n",
    "num_states, num_actions = np.shape(true_r)\n",
    "gamma = 0.99\n",
    "r_max = 2\n",
    "vstar, pistar = vpi.run_value_iteration(gamma, true_r, true_p, np.zeros([num_states]), threshold=1e-8, return_policy=True)\n",
    "vstar = np.mean(vstar)\n",
    "\n",
    "plt.rc('text', usetex=True)\n",
    "plt.rc('text.latex', preamble=r'\\usepackage{amsmath} \\usepackage{bm} \\usepackage{amssymb} \\usepackage[bbgreekl]{mathbbol} \\DeclareSymbolFontAlphabet{\\mathbb}{AMSb} \\DeclareSymbolFontAlphabet{\\mathbbl}{bbold} \\renewcommand{\\rmdefault}{ptm} \\renewcommand{\\sfdefault}{phv}')\n",
    "cols = ['tab:blue', 'tab:orange', 'tab:green', 'tab:red', 'tab:purple',\n",
    "        'tab:brown', 'tab:pink', 'tab:gray', 'tab:olive', 'tab:cyan']\n",
    "rcParams['xtick.labelsize'] = 20\n",
    "rcParams['ytick.labelsize'] = 20"
   ]
  },
  {
   "cell_type": "markdown",
   "id": "prime-contest",
   "metadata": {},
   "source": [
    "# Data loading configuration."
   ]
  },
  {
   "cell_type": "code",
   "execution_count": 4,
   "id": "substantial-teens",
   "metadata": {},
   "outputs": [],
   "source": [
    "RAY_DIR = 'data/'\n",
    "\n",
    "CAPACITY_EXPERIMENT_DIRS = ['run_experiment_2021-05-21_09-02-03']\n",
    "\n",
    "DIAMETER_EXPERIMENT_DIRS = ['run_experiment_2021-05-23_19-33-41',\n",
    "                            'run_experiment_2021-05-23_19-33-10']"
   ]
  },
  {
   "cell_type": "markdown",
   "id": "surprised-range",
   "metadata": {},
   "source": [
    "# Load Capacity Experiment Data"
   ]
  },
  {
   "cell_type": "code",
   "execution_count": 6,
   "id": "atlantic-slave",
   "metadata": {},
   "outputs": [
    {
     "name": "stderr",
     "output_type": "stream",
     "text": [
      "100%|██████████| 400/400 [00:00<00:00, 540.95it/s]\n"
     ]
    },
    {
     "name": "stdout",
     "output_type": "stream",
     "text": [
      "model_rank : {100, 70, 40, 104, 80, 50, 20, 90, 60, 30}\n",
      "ve_mode : {(1, 'stoch'), (inf, 'det'), (inf, 'stoch'), (1, 'det')}\n",
      "[20, 30, 40, 50, 60, 70, 80, 90, 100, 104]\n"
     ]
    }
   ],
   "source": [
    "experiments = {}\n",
    "for exp_dir in CAPACITY_EXPERIMENT_DIRS:\n",
    "    exp_data_path = os.path.expanduser(os.path.join(RAY_DIR, 'ray_capacity', exp_dir))\n",
    "    experiments = {**experiments, **dd.load_data(exp_data_path, ['mean_value', 'ts'])}\n",
    "\n",
    "dd.print_varying_fields(experiments, exclude=['seed'])\n",
    "all_model_ranks = set()\n",
    "for key in experiments.keys():\n",
    "    all_model_ranks.add(dict(key)['model_rank'])\n",
    "all_model_ranks = sorted(list(all_model_ranks))\n",
    "print(all_model_ranks)\n",
    "other_selections = {'env_name': 'four_rooms_rng(80)'}\n",
    "do_group_by = ['ve_mode']\n"
   ]
  },
  {
   "cell_type": "markdown",
   "id": "parliamentary-invitation",
   "metadata": {},
   "source": [
    "# Display Capacity Plots"
   ]
  },
  {
   "cell_type": "code",
   "execution_count": 8,
   "id": "comprehensive-begin",
   "metadata": {},
   "outputs": [
    {
     "data": {
      "image/png": "[encoded data removed]",
      "text/plain": [
       "<Figure size 432x432 with 1 Axes>"
      ]
     },
     "metadata": {
      "needs_background": "light"
     },
     "output_type": "display_data"
    }
   ],
   "source": [
    "def grab_last_entries_means(experiments, data_name, select_by_name, select_by_list):\n",
    "    all_last_entries_means, all_last_entries_stderr = [], []\n",
    "    for select_by in select_by_list:\n",
    "        groups = dd.select_by(experiments, **{select_by_name: select_by})\n",
    "        groups = dd.group_by(groups)\n",
    "        fn = lambda x: np.nan if len(x) == 0 else x[-1]\n",
    "        last_entry_groups_mean = dd.map_groups(groups, lambda x: np.nanmean([fn(xx) for xx in x]))\n",
    "        last_entry_groups_stderr = dd.map_groups(groups, lambda x: np.nanstd([fn(xx) for xx in x]) / np.sqrt(len(x)))\n",
    "        all_last_entries_means.append(last_entry_groups_mean[()][data_name])\n",
    "        all_last_entries_stderr.append(last_entry_groups_stderr[()][data_name])\n",
    "    return all_last_entries_means, all_last_entries_stderr\n",
    "\n",
    "groups = dd.select_by(experiments, **other_selections)\n",
    "\n",
    "scale = 6\n",
    "f, ax = plt.subplots(1, 1, figsize=(1*scale, 1*scale))\n",
    "all_ve_modes = [\n",
    "    (np.inf, 'stoch'), \n",
    "    (np.inf, 'det'),\n",
    "]\n",
    "ve_mode_labels = [\n",
    "    r'{\\huge $\\mathcal{M}^\\infty(\\mathbbl{\\Pi})$}',\n",
    "    r'{\\huge $\\mathcal{M}^\\infty(\\mathbbl{\\Pi}_\\text{det})$}',\n",
    "]\n",
    "\n",
    "for col, ve_mode, ve_mode_label in zip(cols, all_ve_modes, ve_mode_labels):\n",
    "    sub_groups = dd.select_by(groups, ve_mode=ve_mode)\n",
    "    means, stderrs = grab_last_entries_means(sub_groups, 'mean_value', 'model_rank', all_model_ranks)\n",
    "    ax.errorbar(x=all_model_ranks, y=means, yerr=stderrs, color=col, label=ve_mode_label)\n",
    "    ax.plot(all_model_ranks, vstar * np.ones_like(all_model_ranks), '--', color='r')\n",
    "ax.set_ylabel(r'{\\huge $\\text{Performance}$}')\n",
    "ax.set_xlabel(r'{\\huge $\\text{Model Rank}$}')\n",
    "f.legend(loc=(0.7, 0.25))\n",
    "f.savefig('./visuals/model_capacity_plot.png')\n",
    "f.savefig('./visuals/model_capacity_plot.pdf')\n"
   ]
  },
  {
   "cell_type": "markdown",
   "id": "accessible-comparison",
   "metadata": {},
   "source": [
    "# Define Helpers for Diameter Plots"
   ]
  },
  {
   "cell_type": "code",
   "execution_count": 9,
   "id": "valid-stockholm",
   "metadata": {},
   "outputs": [],
   "source": [
    "def get_model_vecs(x):\n",
    "    x = [xx[0] for xx in x]\n",
    "    all_model_vecs = []\n",
    "    for path in tqdm.tqdm(x):\n",
    "        model_vecs = []\n",
    "        with open(path, 'rb') as f:\n",
    "            model_data = pickle.load(f)\n",
    "        for ts, r, p in model_data:\n",
    "            model_vecs.append(np.concatenate([np.reshape(r, [-1]), np.reshape(p, [-1])], axis=0))\n",
    "        model_vecs = np.array(model_vecs)\n",
    "        all_model_vecs.append(model_vecs)\n",
    "    return np.array(all_model_vecs)\n",
    "\n",
    "def groupify(groups):\n",
    "    return {key: [value] for key, value in groups.items()}\n",
    "\n",
    "def ungroupify(groups):\n",
    "    new_groups = dict()\n",
    "    for key, value in groups.items():\n",
    "        assert len(value) == 1\n",
    "        new_groups[key] = value[0]\n",
    "    return new_groups\n",
    "\n",
    "\n",
    "def pca_model_vecs(x, c):\n",
    "    x = np.array(x) # [1, num_in_group, ts, vec_size]    \n",
    "    x = x[0]\n",
    "    out = np.zeros([x.shape[0], x.shape[1], c])\n",
    "    for i in tqdm.tqdm(range(x.shape[1])):\n",
    "        pca = PCA(n_components=c).fit_transform(x[:, i, :]) # [num_in_group, c]\n",
    "        out[:, i, :] = pca\n",
    "    return out\n",
    "\n",
    "@ray.remote\n",
    "def get_v_parallel(r, p, true_r, true_p):\n",
    "    _, model_pi = vpi.run_value_iteration(gamma, r, p, np.zeros([num_states]), return_policy=True, threshold=1e-2)\n",
    "    v_model_pi = np.mean(vpi.exact_policy_evaluation(gamma, model_pi, true_r, true_p))\n",
    "    return v_model_pi\n",
    "\n",
    "\n",
    "def evaluate_model_vector(model_vecs_at_time, num_states, num_actions, true_r, true_p, gamma):\n",
    "    res = []\n",
    "    true_r_ref, true_p_ref = ray.put(true_r), ray.put(true_p)\n",
    "    for model_vec in model_vecs_at_time:\n",
    "        flat_r_len = np.product(np.shape(true_r))\n",
    "        flat_r, flat_p = model_vec[:flat_r_len], model_vec[flat_r_len:]\n",
    "        r = np.reshape(flat_r, np.shape(true_r))\n",
    "        p = np.reshape(flat_p, np.shape(true_p))\n",
    "        res_ref = get_v_parallel.remote(r, p, true_r_ref, true_p_ref)        \n",
    "        res.append(res_ref)\n",
    "    return np.array(ray.get(res))\n",
    "\n",
    "def eval_model_vec(x):\n",
    "    # x : [1, num_in_group, ts, vec_size]\n",
    "    x = np.array(x)\n",
    "    x = x[0]\n",
    "    res = np.zeros([x.shape[0], x.shape[1]])\n",
    "    for t in tqdm.tqdm(range(x.shape[1])):\n",
    "        values = evaluate_model_vector(x[:, t, :], num_states, num_actions, true_r, true_p, gamma) # [num_in_group]\n",
    "        res[:, t] = values\n",
    "    return res\n",
    "    \n",
    "def get_dist_frac(x):\n",
    "    x = np.array(x)\n",
    "    x = x[0] # [num_in_group, ts, c]\n",
    "    num_in_group, ts, c = x.shape\n",
    "    prev_proj = x[:, 0, :] # [num_in_group, c]\n",
    "    cum_dists = np.zeros([num_in_group, ts], dtype=np.float32)\n",
    "    total_dists = np.zeros([num_in_group], dtype=np.float32)\n",
    "    for t in range(ts):\n",
    "        proj = x[:, t, :]\n",
    "        dists = np.sum((proj - prev_proj)**2, axis=1) # [num_in_group]\n",
    "        total_dists += dists\n",
    "        current_dists = np.copy(total_dists)\n",
    "        cum_dists[:, t] = current_dists\n",
    "    cum_dists /= total_dists[:, None]\n",
    "    return cum_dists\n",
    "        \n",
    "def make_scatter(ax, mode, pca_group, value_group, dist_group, use_dist=False, label_cb=True):\n",
    "    assert mode in ['value', 'convergence']\n",
    "    cmap = plt.cm.plasma\n",
    "    divider = make_axes_locatable(ax)\n",
    "    cb = divider.append_axes(\"right\", size=\"5%\", pad=0.05)\n",
    "    pca_data = pca_group[0]['model_path'] # [num_in_group, ts, 2]\n",
    "    value_data = value_group[0]['model_path'] # [num_in_group, ts]\n",
    "    dist_data = dist_group[0]['model_path'] # [num_in_group, ts]\n",
    "    max_t = pca_data.shape[1]\n",
    "    for t in range(max_t):\n",
    "        pca, value, dist = pca_data[:, t, :], value_data[:, t], dist_data[:, t]\n",
    "        # pca, dist = pca_data[:, t, :], dist_data[:, t]\n",
    "        if mode == 'convergence':\n",
    "            if use_dist:\n",
    "                value_colors = [cmap(x) for x in dist]\n",
    "            else:\n",
    "                value_colors = cmap(t / max_t)\n",
    "        else:\n",
    "            value_colors = [cmap(x / vstar) for x in value]\n",
    "        ax.scatter(pca[:, 0], pca[:, 1], color=value_colors)\n",
    "    ax.set_xlim(-4, 4)\n",
    "    ax.set_ylim(-4, 4)\n",
    "    norm = mpl.colors.Normalize(vmin=0, vmax=1)\n",
    "    cb1 = mpl.colorbar.ColorbarBase(cb, cmap=cmap,\n",
    "                                    norm=norm,\n",
    "                                    orientation='vertical')\n",
    "    if label_cb:\n",
    "        if mode == 'convergence':\n",
    "            cb1.set_label(r'{\\huge Normalized Training Time}', rotation=270, labelpad=25)\n",
    "        else:\n",
    "            cb1.set_label(r'{\\huge Normalized Performance}', rotation=270, labelpad=25)\n",
    "        \n",
    "\n",
    "def make_diameter_plot(ax, pca_groups, num_trials):\n",
    "    value_modes = set(dict(k)['ve_mode'] for k in pca_groups.keys())\n",
    "    value_modes = [n for n, pi_mode in value_modes]\n",
    "    value_modes = sorted(value_modes)\n",
    "    print(value_modes)\n",
    "    all_diams_mean, all_diams_stderr = [], []\n",
    "    for n in value_modes:\n",
    "        pca = pca_groups[(('ve_mode', (n, 'det_and_stoch')),)][0]['model_path'] # [num_in_group, ts, 2]\n",
    "        num_in_group = np.shape(pca)[0]\n",
    "        assert num_in_group % num_trials == 0\n",
    "        trial_size = num_in_group // num_trials\n",
    "        trial_diams = []\n",
    "        for i in range(num_trials):\n",
    "            pca_part = np.array(pca)[i*trial_size:(i+1)*trial_size, :, :]\n",
    "            c = np.transpose(pca_part[:, :, 0], [1, 0]) # [ts, num]\n",
    "            diams = np.abs(c[:, :, None] - c[:, None, :]) # [ts, num_in_group, num_in_group]\n",
    "            diams = np.max(diams, axis=1) # [ts, num_in_group]\n",
    "            diams = np.max(diams, axis=1) # [ts]\n",
    "            trial_diams.append(diams[-1])\n",
    "        all_diams_mean.append(np.mean(trial_diams))\n",
    "        all_diams_stderr.append(np.std(trial_diams) / np.sqrt(len(trial_diams)))\n",
    "    ax.errorbar(np.arange(len(all_diams_mean)), y=all_diams_mean, yerr=all_diams_stderr)\n",
    "    ax.scatter(np.arange(len(all_diams_mean)), all_diams_mean)\n",
    "    value_modes = [r'$'+ (str(v) if v < np.inf else r'\\infty') + r'$' for v in value_modes]\n",
    "    #ax.set_xticklabels(['$1$'] + value_modes)\n",
    "    ax.set_xticks(np.arange(len(all_diams_mean)))\n",
    "    ax.set_xticklabels(value_modes)\n",
    "    ax.yaxis.set_label_position(\"right\")\n",
    "    ax.yaxis.tick_right()"
   ]
  },
  {
   "cell_type": "markdown",
   "id": "fresh-raise",
   "metadata": {},
   "source": [
    "# Load Data for Diameter Plots"
   ]
  },
  {
   "cell_type": "code",
   "execution_count": 8,
   "id": "harmful-automation",
   "metadata": {},
   "outputs": [
    {
     "name": "stderr",
     "output_type": "stream",
     "text": [
      "100%|██████████| 360/360 [01:37<00:00,  3.68it/s]\n",
      "100%|██████████| 360/360 [01:00<00:00,  5.98it/s]\n",
      "100%|██████████| 360/360 [01:37<00:00,  3.70it/s]\n",
      "100%|██████████| 360/360 [00:59<00:00,  6.08it/s]\n"
     ]
    }
   ],
   "source": [
    "models, model_losses = {}, {}\n",
    "for d in DIAMETER_EXPERIMENT_DIRS:\n",
    "    models = {**models, **dd.load_data(os.path.join(RAY_DIR, 'ray_diameter', d), ['model_path'], no_ray=True)}\n",
    "\n",
    "group_by = ['ve_mode']\n",
    "groups = dd.group_by(models, *group_by)\n",
    "\n",
    "#model_groups = groupify(dd.map_groups(groups, get_model_vecs))\n",
    "pca_groups = groupify(dd.map_groups(model_groups, lambda x: pca_model_vecs(x, 2))) # Exp[num_in_group, ts, c]\n",
    "value_groups = groupify(dd.map_groups(model_groups, eval_model_vec)) # Exp[num_in_group, ts]\n",
    "dist_groups = groupify(dd.map_groups(pca_groups, get_dist_frac))\n"
   ]
  },
  {
   "cell_type": "code",
   "execution_count": 25,
   "id": "complete-horror",
   "metadata": {},
   "outputs": [
    {
     "name": "stdout",
     "output_type": "stream",
     "text": [
      "Going to plot  6 diagrams.\n",
      "[1, 30, 40, 50, 60, inf]\n"
     ]
    },
    {
     "ename": "TypeError",
     "evalue": "'NoneType' object is not subscriptable",
     "output_type": "error",
     "traceback": [
      "\u001b[0;31m---------------------------------------------------------------------------\u001b[0m",
      "\u001b[0;31mTypeError\u001b[0m                                 Traceback (most recent call last)",
      "\u001b[0;32m<ipython-input-25-a896ea81211a>\u001b[0m in \u001b[0;36m<module>\u001b[0;34m\u001b[0m\n\u001b[1;32m     16\u001b[0m     \u001b[0morder\u001b[0m\u001b[0;34m,\u001b[0m \u001b[0mpolicy_type\u001b[0m \u001b[0;34m=\u001b[0m \u001b[0mdict\u001b[0m\u001b[0;34m(\u001b[0m\u001b[0mkey\u001b[0m\u001b[0;34m)\u001b[0m\u001b[0;34m[\u001b[0m\u001b[0;34m've_mode'\u001b[0m\u001b[0;34m]\u001b[0m\u001b[0;34m\u001b[0m\u001b[0;34m\u001b[0m\u001b[0m\n\u001b[1;32m     17\u001b[0m     \u001b[0mf\u001b[0m\u001b[0;34m,\u001b[0m \u001b[0max\u001b[0m \u001b[0;34m=\u001b[0m \u001b[0mplt\u001b[0m\u001b[0;34m.\u001b[0m\u001b[0msubplots\u001b[0m\u001b[0;34m(\u001b[0m\u001b[0;36m1\u001b[0m\u001b[0;34m,\u001b[0m \u001b[0;36m1\u001b[0m\u001b[0;34m,\u001b[0m \u001b[0mfigsize\u001b[0m\u001b[0;34m=\u001b[0m\u001b[0;34m(\u001b[0m\u001b[0mscale\u001b[0m\u001b[0;34m,\u001b[0m \u001b[0mscale\u001b[0m\u001b[0;34m)\u001b[0m\u001b[0;34m)\u001b[0m\u001b[0;34m\u001b[0m\u001b[0;34m\u001b[0m\u001b[0m\n\u001b[0;32m---> 18\u001b[0;31m     make_scatter(ax, 'convergence',\n\u001b[0m\u001b[1;32m     19\u001b[0m                  \u001b[0mpca_groups\u001b[0m\u001b[0;34m[\u001b[0m\u001b[0mkey\u001b[0m\u001b[0;34m]\u001b[0m\u001b[0;34m,\u001b[0m \u001b[0;32mNone\u001b[0m\u001b[0;34m,\u001b[0m \u001b[0;32mNone\u001b[0m\u001b[0;34m,\u001b[0m\u001b[0;34m\u001b[0m\u001b[0;34m\u001b[0m\u001b[0m\n\u001b[1;32m     20\u001b[0m                  use_dist=False, label_cb=(order == np.inf))\n",
      "\u001b[0;32m<ipython-input-23-2a5193a022a9>\u001b[0m in \u001b[0;36mmake_scatter\u001b[0;34m(ax, mode, pca_group, value_group, dist_group, use_dist, label_cb)\u001b[0m\n\u001b[1;32m     83\u001b[0m     \u001b[0mcb\u001b[0m \u001b[0;34m=\u001b[0m \u001b[0mdivider\u001b[0m\u001b[0;34m.\u001b[0m\u001b[0mappend_axes\u001b[0m\u001b[0;34m(\u001b[0m\u001b[0;34m\"right\"\u001b[0m\u001b[0;34m,\u001b[0m \u001b[0msize\u001b[0m\u001b[0;34m=\u001b[0m\u001b[0;34m\"5%\"\u001b[0m\u001b[0;34m,\u001b[0m \u001b[0mpad\u001b[0m\u001b[0;34m=\u001b[0m\u001b[0;36m0.05\u001b[0m\u001b[0;34m)\u001b[0m\u001b[0;34m\u001b[0m\u001b[0;34m\u001b[0m\u001b[0m\n\u001b[1;32m     84\u001b[0m     \u001b[0mpca_data\u001b[0m \u001b[0;34m=\u001b[0m \u001b[0mpca_group\u001b[0m\u001b[0;34m[\u001b[0m\u001b[0;36m0\u001b[0m\u001b[0;34m]\u001b[0m\u001b[0;34m[\u001b[0m\u001b[0;34m'model_path'\u001b[0m\u001b[0;34m]\u001b[0m \u001b[0;31m# [num_in_group, ts, 2]\u001b[0m\u001b[0;34m\u001b[0m\u001b[0;34m\u001b[0m\u001b[0m\n\u001b[0;32m---> 85\u001b[0;31m     \u001b[0mvalue_data\u001b[0m \u001b[0;34m=\u001b[0m \u001b[0mvalue_group\u001b[0m\u001b[0;34m[\u001b[0m\u001b[0;36m0\u001b[0m\u001b[0;34m]\u001b[0m\u001b[0;34m[\u001b[0m\u001b[0;34m'model_path'\u001b[0m\u001b[0;34m]\u001b[0m \u001b[0;31m# [num_in_group, ts]\u001b[0m\u001b[0;34m\u001b[0m\u001b[0;34m\u001b[0m\u001b[0m\n\u001b[0m\u001b[1;32m     86\u001b[0m     \u001b[0mdist_data\u001b[0m \u001b[0;34m=\u001b[0m \u001b[0mdist_group\u001b[0m\u001b[0;34m[\u001b[0m\u001b[0;36m0\u001b[0m\u001b[0;34m]\u001b[0m\u001b[0;34m[\u001b[0m\u001b[0;34m'model_path'\u001b[0m\u001b[0;34m]\u001b[0m \u001b[0;31m# [num_in_group, ts]\u001b[0m\u001b[0;34m\u001b[0m\u001b[0;34m\u001b[0m\u001b[0m\n\u001b[1;32m     87\u001b[0m     \u001b[0mmax_t\u001b[0m \u001b[0;34m=\u001b[0m \u001b[0mpca_data\u001b[0m\u001b[0;34m.\u001b[0m\u001b[0mshape\u001b[0m\u001b[0;34m[\u001b[0m\u001b[0;36m1\u001b[0m\u001b[0;34m]\u001b[0m\u001b[0;34m\u001b[0m\u001b[0;34m\u001b[0m\u001b[0m\n",
      "\u001b[0;31mTypeError\u001b[0m: 'NoneType' object is not subscriptable"
     ]
    },
    {
     "data": {
      "image/png": "[encoded data removed]",
      "text/plain": [
       "<Figure size 432x432 with 1 Axes>"
      ]
     },
     "metadata": {
      "needs_background": "light"
     },
     "output_type": "display_data"
    },
    {
     "data": {
      "image/png": "[encoded data removed]",
      "text/plain": [
       "<Figure size 432x432 with 2 Axes>"
      ]
     },
     "metadata": {
      "needs_background": "light"
     },
     "output_type": "display_data"
    }
   ],
   "source": [
    "selection = {}\n",
    "use_dist = False\n",
    "print('Going to plot ', len(selected_pca_groups), 'diagrams.')\n",
    "\n",
    "\n",
    "scale = 6\n",
    "f, ax = plt.subplots(1, 1, figsize=(scale, scale))\n",
    "make_diameter_plot(ax, selected_pca_groups, 6)\n",
    "ax.set_ylabel(r'{\\huge Diameter}', rotation=270, labelpad=25)\n",
    "plt.tight_layout()\n",
    "f.savefig('./visuals/diameter_vs_order.png')\n",
    "f.savefig('./visuals/diameter_vs_order.pdf')\n",
    "\n",
    "for key in sorted(selected_pca_groups):\n",
    "    order, policy_type = dict(key)['ve_mode']\n",
    "    f, ax = plt.subplots(1, 1, figsize=(scale, scale))\n",
    "    make_scatter(ax, 'convergence',\n",
    "                 pca_groups[key], value_groups[key], dist_groups[key],\n",
    "                 use_dist=False, label_cb=(order == np.inf))\n",
    "    # ax.set_title()\n",
    "    order_str = str(order) if order < np.inf else r'\\infty'\n",
    "    ax.set_title(r'{\\huge Order $\\bm{' + order_str + '}$}')\n",
    "    plt.tight_layout()\n",
    "    f.savefig(f'./visuals/conv_{order}.png')\n",
    "    f.savefig(f'./visuals/conv_{order}.pdf')\n",
    "    f, ax = plt.subplots(1, 1, figsize=(scale, scale))\n",
    "    make_scatter(ax, 'value',\n",
    "                 pca_groups[key], value_groups[key], dist_groups[key],\n",
    "                 use_dist=False, label_cb=(order == np.inf))\n",
    "    plt.tight_layout()\n",
    "    f.savefig(f'./visuals/perf_{order}.png')\n",
    "    f.savefig(f'./visuals/perf_{order}.pdf')"
   ]
  },
  {
   "cell_type": "code",
   "execution_count": null,
   "id": "fluid-printing",
   "metadata": {},
   "outputs": [],
   "source": [
    "from matplotlib.collections import LineCollection\n",
    "\n",
    "\n",
    "def set_tickless(ax):  \n",
    "    ax.tick_params(\n",
    "        axis='x',          \n",
    "        which='both',      \n",
    "        bottom=False,      \n",
    "        top=False,         \n",
    "        labelbottom=False) \n",
    "    ax.tick_params(\n",
    "        axis='y',          \n",
    "        which='both',      \n",
    "        left=False,        \n",
    "        right=False,       \n",
    "        labelleft=False)\n",
    "\n",
    "def get_one_with_key(key, idx=0):\n",
    "    model_vec = np.array(model_groups[key][0]['model_path'][idx][-1])\n",
    "    return model_vec\n",
    "\n",
    "def get_model_from_vector(vector):\n",
    "    flat_r_len = np.product(np.shape(true_r))\n",
    "    flat_r, flat_p = vector[:flat_r_len], vector[flat_r_len:]\n",
    "    r = np.reshape(flat_r, np.shape(true_r))\n",
    "    p = np.reshape(flat_p, np.shape(true_p))\n",
    "    return r, p\n",
    "\n",
    "fpve_key = (('ve_mode', (np.inf, 'det_and_stoch')),)\n",
    "fpve_model_vec = get_one_with_key(fpve_key, 0)\n",
    "fpve_model = get_model_from_vector(fpve_model_vec)\n",
    "\n",
    "ve_key = (('ve_mode', (1, 'det_and_stoch')),)\n",
    "ve_model_vec = get_one_with_key(ve_key, 0)\n",
    "ve_model = get_model_from_vector(ve_model_vec)\n",
    "\n",
    "\n",
    "    \n",
    "\n",
    "def visualize_trajs(ax, start_pos, model, env, pi, num_trajs=100, traj_len=100):\n",
    "    r, p = model\n",
    "    num_states, num_actions = r.shape\n",
    "    ppi = np.sum(pi[:, :, None] * p, axis=1) # [s, s]\n",
    "    ppi = ppi / np.sum(ppi, axis=1)[:, None]\n",
    "    rpi = np.sum(r * pi, axis=1)\n",
    "    all_traj = []\n",
    "    for _ in tqdm.tqdm(range(num_trajs)):\n",
    "        traj = []\n",
    "        pos = start_pos\n",
    "        s = env._free_tile_mapping[pos]\n",
    "        traj.append(pos)\n",
    "        for _ in range(traj_len-1):\n",
    "            s = np.random.choice(num_states, p=ppi[s, :])\n",
    "            pos = env._s_to_xy[s]\n",
    "            traj.append(pos)\n",
    "        all_traj.append(traj)\n",
    "    cmap = colors.ListedColormap(['white', 'gray', 'red', 'green'])\n",
    "    bounds = [0,1,2,3]\n",
    "    norm = colors.BoundaryNorm(bounds, cmap.N)\n",
    "    im = ax.imshow(env.visualize(), cmap=cmap, norm=norm)\n",
    "    \n",
    "    traj_cmap = cm.get_cmap('plasma')\n",
    "    \n",
    "    for traj in tqdm.tqdm(all_traj):\n",
    "        traj = np.array(traj)\n",
    "        xs, ys = zip(*traj)\n",
    "        perc = (np.arange(len(xs), dtype=np.float32) + 1) / len(xs)\n",
    "        lc = LineCollection(zip(traj[:-1], traj[1:]), array=perc, cmap=plt.cm.plasma, alpha=0.02)\n",
    "        ax.add_collection(lc)\n",
    "        ax.margins(0.1)\n",
    "        #ax.plot(xs, ys, c=perc, cmap=traj_cmap)\n",
    "    set_tickless(ax)\n",
    "    divider = make_axes_locatable(ax)\n",
    "    cax = divider.append_axes(\"right\", size=\"5%\", pad=0.05)\n",
    "    cb = plt.colorbar(lc, cax=cax)\n",
    "    cb.set_label(r'{\\huge Normalized Trajectory Time}', rotation=270, labelpad=25)\n",
    "    cb.solids.set(alpha=1.0)\n",
    "    ax.scatter([start_pos[0]], [start_pos[1]], c='r', s=150)\n",
    "        \n",
    "    \n",
    "    \n",
    "model = fpve_model    \n",
    "_, pi = vpi.run_value_iteration(\n",
    "    gamma, env.get_reward_matrix(), env.get_transition_tensor(), np.zeros([num_states]), return_policy=True)\n",
    "scale = 6\n",
    "#pi = 0.2 * (np.ones_like(pi) / num_actions) + 0.8 * pi\n",
    "f, ax = plt.subplots(1, 1, figsize=(scale, scale))\n",
    "true_model = (env.get_reward_matrix(), env.get_transition_tensor())\n",
    "visualize_trajs(ax, (1, 11), true_model, env, pi, num_trajs=5000, traj_len=30)\n",
    "ax.set_title(r'{\\huge Environment}')\n",
    "plt.tight_layout()\n",
    "f.savefig('./visuals/opt_traj_environment.png')\n",
    "f.savefig('./visuals/opt_traj_environment.pdf')\n",
    "\n",
    "f, ax = plt.subplots(1, 1, figsize=(scale, scale))\n",
    "true_model = (env.get_reward_matrix(), env.get_transition_tensor())\n",
    "visualize_trajs(ax, (1, 11), fpve_model, env, pi, num_trajs=5000, traj_len=30)\n",
    "ax.set_title(r'{\\huge PVE Model}')\n",
    "plt.tight_layout()\n",
    "f.savefig('./visuals/opt_traj_pve.png')\n",
    "f.savefig('./visuals/opt_traj_pve.pdf')"
   ]
  }
 ],
 "metadata": {
  "kernelspec": {
   "display_name": "Python 3",
   "language": "python",
   "name": "python3"
  },
  "language_info": {
   "codemirror_mode": {
    "name": "ipython",
    "version": 3
   },
   "file_extension": ".py",
   "mimetype": "text/x-python",
   "name": "python",
   "nbconvert_exporter": "python",
   "pygments_lexer": "ipython3",
   "version": "3.8.6"
  }
 },
 "nbformat": 4,
 "nbformat_minor": 5
}
